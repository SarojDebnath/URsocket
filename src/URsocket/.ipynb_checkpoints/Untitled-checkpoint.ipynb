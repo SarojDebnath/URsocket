{
 "cells": [
  {
   "cell_type": "code",
   "execution_count": 44,
   "id": "c1ff7cf4-00bf-43b1-ad43-9ebd78167585",
   "metadata": {},
   "outputs": [
    {
     "name": "stdout",
     "output_type": "stream",
     "text": [
      "Connected\n"
     ]
    }
   ],
   "source": [
    "import UR\n",
    "robot=UR.control('192.168.1.251')"
   ]
  },
  {
   "cell_type": "code",
   "execution_count": 25,
   "id": "ee4d8047-847c-47a8-b43e-a27e0f3ff5a8",
   "metadata": {},
   "outputs": [
    {
     "name": "stdout",
     "output_type": "stream",
     "text": [
      "[2.1541121006011963, -1.4733280104449769, 2.161215130482809, -0.648890571003296, 5.295060634613037, -2.3636820952044886]\n",
      "[123.42056207564661, -84.41852993146264, 123.8266751057829, -37.17700744269253, 303.384653949947, -135.43223201514508]\n"
     ]
    }
   ],
   "source": [
    "print(robot.getActualJointPositions(rad=True))\n",
    "print(robot.getActualJointPositions(rad=False))"
   ]
  },
  {
   "cell_type": "code",
   "execution_count": 26,
   "id": "accbc80f-dcf7-4648-8f3e-5d85637733a1",
   "metadata": {},
   "outputs": [
    {
     "name": "stdout",
     "output_type": "stream",
     "text": [
      "[0.2970859507468105, 0.039219062381541256, 0.2429587134440924, -1.1834195830886183, 1.19944884082786, 1.2417688786171377]\n"
     ]
    }
   ],
   "source": [
    "print(robot.getActualTCPPose())"
   ]
  },
  {
   "cell_type": "code",
   "execution_count": null,
   "id": "b0e3cb3b-cd96-42d8-8813-97038b14951e",
   "metadata": {},
   "outputs": [],
   "source": [
    "robot.freedrive([1,1,1,1,1,1],[0,0,0,0,0,0])"
   ]
  },
  {
   "cell_type": "code",
   "execution_count": null,
   "id": "bd4628d1-d1e9-4cbd-ac48-a43c2b0a9009",
   "metadata": {},
   "outputs": [],
   "source": [
    "robot.endFreedrive()"
   ]
  },
  {
   "cell_type": "code",
   "execution_count": null,
   "id": "6db0c87a-ddc6-4a01-aa5e-7f437051d924",
   "metadata": {},
   "outputs": [],
   "source": [
    "robot.moveC([0.3516892282032206, 0.11650972666307746, 0.2783829045756445, -1.1813014033631208, 1.2281736492220754, 1.191678891016245],[0.3516892282032206, 0.11650972666307746, 0.2883829045756445, -1.1813014033631208, 1.2281736492220754, 1.191678891016245],1.2,1.2,0.0,1)"
   ]
  },
  {
   "cell_type": "code",
   "execution_count": 37,
   "id": "01b1686d-7904-4904-a580-d77155fac870",
   "metadata": {},
   "outputs": [
    {
     "data": {
      "text/plain": [
       "False"
      ]
     },
     "execution_count": 37,
     "metadata": {},
     "output_type": "execute_result"
    }
   ],
   "source": [
    "robot.setConfigurableDigitalOut(0,False)"
   ]
  },
  {
   "cell_type": "code",
   "execution_count": 42,
   "id": "27fbe77c-2005-482e-88a9-4468c9520e4a",
   "metadata": {},
   "outputs": [
    {
     "name": "stdout",
     "output_type": "stream",
     "text": [
      "True\n"
     ]
    }
   ],
   "source": [
    "print(robot.getStandardDigitalOut(6))"
   ]
  },
  {
   "cell_type": "code",
   "execution_count": 46,
   "id": "531dce94-e96e-473e-be93-b5efd218edd6",
   "metadata": {},
   "outputs": [
    {
     "ename": "ConnectionResetError",
     "evalue": "[WinError 10054] An existing connection was forcibly closed by the remote host",
     "output_type": "error",
     "traceback": [
      "\u001b[1;31m---------------------------------------------------------------------------\u001b[0m",
      "\u001b[1;31mConnectionResetError\u001b[0m                      Traceback (most recent call last)",
      "Cell \u001b[1;32mIn[46], line 1\u001b[0m\n\u001b[1;32m----> 1\u001b[0m \u001b[38;5;28mprint\u001b[39m(\u001b[43mrobot\u001b[49m\u001b[38;5;241;43m.\u001b[39;49m\u001b[43mgetAllDigitalOut\u001b[49m\u001b[43m(\u001b[49m\u001b[43m)\u001b[49m)\n",
      "File \u001b[1;32m~\\URsocket\\src\\URsocket\\UR.py:299\u001b[0m, in \u001b[0;36mcontrol.getAllDigitalOut\u001b[1;34m(self)\u001b[0m\n\u001b[0;32m    298\u001b[0m \u001b[38;5;28;01mdef\u001b[39;00m \u001b[38;5;21mgetAllDigitalOut\u001b[39m(\u001b[38;5;28mself\u001b[39m): \n\u001b[1;32m--> 299\u001b[0m     value\u001b[38;5;241m=\u001b[39m\u001b[38;5;28;43mself\u001b[39;49m\u001b[38;5;241;43m.\u001b[39;49m\u001b[43mget_value\u001b[49m\u001b[43m(\u001b[49m\u001b[38;5;124;43m'\u001b[39;49m\u001b[38;5;124;43mactual_digital_output_bits\u001b[39;49m\u001b[38;5;124;43m'\u001b[39;49m\u001b[43m)\u001b[49m\n\u001b[0;32m    300\u001b[0m     binary_string \u001b[38;5;241m=\u001b[39m \u001b[38;5;28mbin\u001b[39m(value)[\u001b[38;5;241m2\u001b[39m:]\n\u001b[0;32m    301\u001b[0m     binary_list \u001b[38;5;241m=\u001b[39m [\u001b[38;5;241m0\u001b[39m] \u001b[38;5;241m*\u001b[39m (\u001b[38;5;241m18\u001b[39m \u001b[38;5;241m-\u001b[39m \u001b[38;5;28mlen\u001b[39m(binary_string)) \u001b[38;5;241m+\u001b[39m [\u001b[38;5;28mint\u001b[39m(digit) \u001b[38;5;28;01mfor\u001b[39;00m digit \u001b[38;5;129;01min\u001b[39;00m binary_string]\n",
      "File \u001b[1;32m~\\URsocket\\src\\URsocket\\UR.py:68\u001b[0m, in \u001b[0;36mcontrol.get_value\u001b[1;34m(self, value_name)\u001b[0m\n\u001b[0;32m     67\u001b[0m \u001b[38;5;28;01mdef\u001b[39;00m \u001b[38;5;21mget_value\u001b[39m(\u001b[38;5;28mself\u001b[39m, value_name):\n\u001b[1;32m---> 68\u001b[0m     \u001b[38;5;28;01mif\u001b[39;00m \u001b[38;5;129;01mnot\u001b[39;00m \u001b[38;5;28;43mself\u001b[39;49m\u001b[38;5;241;43m.\u001b[39;49m\u001b[43mcon\u001b[49m\u001b[38;5;241;43m.\u001b[39;49m\u001b[43msend_start\u001b[49m\u001b[43m(\u001b[49m\u001b[43m)\u001b[49m:\n\u001b[0;32m     69\u001b[0m         sys\u001b[38;5;241m.\u001b[39mexit()\n\u001b[0;32m     70\u001b[0m     state \u001b[38;5;241m=\u001b[39m \u001b[38;5;28mself\u001b[39m\u001b[38;5;241m.\u001b[39mcon\u001b[38;5;241m.\u001b[39mreceive()\n",
      "File \u001b[1;32m~\\URsocket\\src\\URsocket\\rtde.py:148\u001b[0m, in \u001b[0;36mRTDE.send_start\u001b[1;34m(self)\u001b[0m\n\u001b[0;32m    146\u001b[0m \u001b[38;5;28;01mdef\u001b[39;00m \u001b[38;5;21msend_start\u001b[39m(\u001b[38;5;28mself\u001b[39m):\n\u001b[0;32m    147\u001b[0m     cmd \u001b[38;5;241m=\u001b[39m Command\u001b[38;5;241m.\u001b[39mRTDE_CONTROL_PACKAGE_START\n\u001b[1;32m--> 148\u001b[0m     success \u001b[38;5;241m=\u001b[39m \u001b[38;5;28;43mself\u001b[39;49m\u001b[38;5;241;43m.\u001b[39;49m\u001b[43m__sendAndReceive\u001b[49m\u001b[43m(\u001b[49m\u001b[43mcmd\u001b[49m\u001b[43m)\u001b[49m\n\u001b[0;32m    149\u001b[0m     \u001b[38;5;28;01mif\u001b[39;00m success:\n\u001b[0;32m    150\u001b[0m         _log\u001b[38;5;241m.\u001b[39minfo(\u001b[38;5;124m'\u001b[39m\u001b[38;5;124mRTDE synchronization started\u001b[39m\u001b[38;5;124m'\u001b[39m)\n",
      "File \u001b[1;32m~\\URsocket\\src\\URsocket\\rtde.py:213\u001b[0m, in \u001b[0;36mRTDE.__sendAndReceive\u001b[1;34m(self, cmd, payload)\u001b[0m\n\u001b[0;32m    211\u001b[0m \u001b[38;5;28;01mdef\u001b[39;00m \u001b[38;5;21m__sendAndReceive\u001b[39m(\u001b[38;5;28mself\u001b[39m, cmd, payload\u001b[38;5;241m=\u001b[39m\u001b[38;5;124mb\u001b[39m\u001b[38;5;124m'\u001b[39m\u001b[38;5;124m'\u001b[39m):\n\u001b[0;32m    212\u001b[0m     \u001b[38;5;28;01mif\u001b[39;00m \u001b[38;5;28mself\u001b[39m\u001b[38;5;241m.\u001b[39m__sendall(cmd, payload):\n\u001b[1;32m--> 213\u001b[0m         \u001b[38;5;28;01mreturn\u001b[39;00m \u001b[38;5;28;43mself\u001b[39;49m\u001b[38;5;241;43m.\u001b[39;49m\u001b[43m__recv\u001b[49m\u001b[43m(\u001b[49m\u001b[43mcmd\u001b[49m\u001b[43m)\u001b[49m\n\u001b[0;32m    214\u001b[0m     \u001b[38;5;28;01melse\u001b[39;00m:\n\u001b[0;32m    215\u001b[0m         \u001b[38;5;28;01mreturn\u001b[39;00m \u001b[38;5;28;01mNone\u001b[39;00m\n",
      "File \u001b[1;32m~\\URsocket\\src\\URsocket\\rtde.py:243\u001b[0m, in \u001b[0;36mRTDE.__recv\u001b[1;34m(self, command, binary)\u001b[0m\n\u001b[0;32m    241\u001b[0m readable, _, xlist \u001b[38;5;241m=\u001b[39m select\u001b[38;5;241m.\u001b[39mselect([\u001b[38;5;28mself\u001b[39m\u001b[38;5;241m.\u001b[39m__sock], [], [\u001b[38;5;28mself\u001b[39m\u001b[38;5;241m.\u001b[39m__sock], DEFAULT_TIMEOUT)\n\u001b[0;32m    242\u001b[0m \u001b[38;5;28;01mif\u001b[39;00m \u001b[38;5;28mlen\u001b[39m(readable):\n\u001b[1;32m--> 243\u001b[0m     more \u001b[38;5;241m=\u001b[39m \u001b[38;5;28;43mself\u001b[39;49m\u001b[38;5;241;43m.\u001b[39;49m\u001b[43m__sock\u001b[49m\u001b[38;5;241;43m.\u001b[39;49m\u001b[43mrecv\u001b[49m\u001b[43m(\u001b[49m\u001b[38;5;241;43m4096\u001b[39;49m\u001b[43m)\u001b[49m\n\u001b[0;32m    244\u001b[0m     \u001b[38;5;28;01mif\u001b[39;00m \u001b[38;5;28mlen\u001b[39m(more) \u001b[38;5;241m==\u001b[39m \u001b[38;5;241m0\u001b[39m:\n\u001b[0;32m    245\u001b[0m         \u001b[38;5;28mself\u001b[39m\u001b[38;5;241m.\u001b[39m__trigger_disconnected()\n",
      "\u001b[1;31mConnectionResetError\u001b[0m: [WinError 10054] An existing connection was forcibly closed by the remote host"
     ]
    }
   ],
   "source": [
    "print(robot.getAllDigitalOut())"
   ]
  },
  {
   "cell_type": "code",
   "execution_count": 47,
   "id": "2b9dc765-20a0-4ac3-88e4-a726cbe5b52a",
   "metadata": {},
   "outputs": [],
   "source": [
    "robot.disconnect()"
   ]
  },
  {
   "cell_type": "code",
   "execution_count": null,
   "id": "f80597b0-85b6-469f-8c35-90a387533024",
   "metadata": {},
   "outputs": [],
   "source": []
  }
 ],
 "metadata": {
  "kernelspec": {
   "display_name": "Python 3 (ipykernel)",
   "language": "python",
   "name": "python3"
  },
  "language_info": {
   "codemirror_mode": {
    "name": "ipython",
    "version": 3
   },
   "file_extension": ".py",
   "mimetype": "text/x-python",
   "name": "python",
   "nbconvert_exporter": "python",
   "pygments_lexer": "ipython3",
   "version": "3.11.4"
  }
 },
 "nbformat": 4,
 "nbformat_minor": 5
}
